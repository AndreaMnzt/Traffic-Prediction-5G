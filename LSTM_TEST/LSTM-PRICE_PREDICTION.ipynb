{
 "cells": [
  {
   "cell_type": "code",
   "execution_count": 4,
   "metadata": {},
   "outputs": [],
   "source": [
    "# Import delle librerie da utilizzare\n",
    "import numpy as np\n",
    "import matplotlib.pyplot as plt\n",
    "import pandas as pd"
   ]
  },
  {
   "cell_type": "markdown",
   "metadata": {},
   "source": [
    "## Caricamento Dati"
   ]
  },
  {
   "cell_type": "code",
   "execution_count": 5,
   "metadata": {},
   "outputs": [],
   "source": [
    "# Carica intero file come Pandas DataFrame\n",
    "dataset_train = pd.read_csv('NSE-TATAGLOBAL.csv')\n",
    "\n",
    "# Estrai tutta la seconda colonna senza indici/header\n",
    "training_set = dataset_train.iloc[:, 1:2].values"
   ]
  },
  {
   "cell_type": "code",
   "execution_count": 6,
   "metadata": {},
   "outputs": [
    {
     "name": "stdout",
     "output_type": "stream",
     "text": [
      "Numero di righe del training_set: 2035\n"
     ]
    }
   ],
   "source": [
    "dataset_train.head()\n",
    "print('Numero di righe del training_set:', len(training_set))"
   ]
  },
  {
   "cell_type": "markdown",
   "metadata": {},
   "source": [
    "## Riscaling delle Features\n",
    "Dobbiamo riscalare i dati da dare in input al nostro network per avere delle ottime performance. I dati vanno riscalati in (0, 1)."
   ]
  },
  {
   "cell_type": "code",
   "execution_count": 7,
   "metadata": {},
   "outputs": [],
   "source": [
    "from sklearn.preprocessing import MinMaxScaler\n",
    "\n",
    "# Impostiamo il scaler con range (0,1)\n",
    "sc = MinMaxScaler(feature_range=(0, 1))\n",
    "\n",
    "# Riscaliamo le features\n",
    "training_set_scaled = sc.fit_transform(training_set)"
   ]
  },
  {
   "cell_type": "markdown",
   "metadata": {},
   "source": [
    "## Preparazione dati per il Network\n",
    "LSTM vuole 3D array. Iniziamo creando dati in 60 time-step e li convertiamo in array usando numpy.<br>\n",
    "Dopodichè convertiamo in 3D array di dimensioni (n° X_train, 60 time-stamp, n° feature ad ogni step (1))."
   ]
  },
  {
   "cell_type": "code",
   "execution_count": 8,
   "metadata": {},
   "outputs": [
    {
     "name": "stdout",
     "output_type": "stream",
     "text": [
      "Shape X_train: (1975, 60, 1)\n",
      "Shape y_train: (1975,)\n"
     ]
    }
   ],
   "source": [
    "# Inizializzazione delle liste-contenitore\n",
    "X_train = []\n",
    "y_train = []\n",
    "\n",
    "# Appendo alle liste blocchi di dati da 60 righe,\n",
    "# scalati di un time-step\n",
    "for i in range(60, 2035):\n",
    "    X_train.append(training_set_scaled[i - 60 : i, 0])\n",
    "    y_train.append(training_set_scaled[i, 0])\n",
    "\n",
    "\n",
    "# Conversione delle liste in numpy-array\n",
    "X_train, y_train = np.array(X_train), np.array(y_train)\n",
    "\n",
    "# Reshape del training set\n",
    "X_train = np.reshape(X_train, (X_train.shape[0], X_train.shape[1], 1))\n",
    "\n",
    "print(f'Shape X_train: {X_train.shape}')\n",
    "print(f'Shape y_train: {y_train.shape}')"
   ]
  },
  {
   "cell_type": "markdown",
   "metadata": {},
   "source": [
    "## Costruzione del Network-LSTM"
   ]
  },
  {
   "cell_type": "code",
   "execution_count": 9,
   "metadata": {},
   "outputs": [
    {
     "name": "stderr",
     "output_type": "stream",
     "text": [
      "Using TensorFlow backend.\n"
     ]
    }
   ],
   "source": [
    "# Importiamo le librerie di keras per la rete\n",
    "from keras.models import Sequential\n",
    "from keras.layers import Dense\n",
    "from keras.layers import LSTM\n",
    "from keras.layers import Dropout"
   ]
  },
  {
   "cell_type": "markdown",
   "metadata": {},
   "source": [
    "Aggiungiamo i layer LSTM e poi un po' di layer dropout per evitare overfitting.<br>\n",
    "Ogni layer LSTM  ha come argomenti:<br>\n",
    "- units=50 -> dimensione dell'output\n",
    "- return_sequences=True -> determina se ritornare l'ultimo output della sequenza di output, oppure la sequenza intera.\n",
    "- input_shape -> indica le dimensioni del training_set\n",
    "\n",
    "Nei Dropout_Layer utiliziamo 0.2 che indica il 20% dei layer verrà droppato.<br><br>\n",
    "Dopodichè aggiungiamo un Dense layer che specifica un output di 1 valore.<br><br>\n",
    "Compiliamo il nostro modello usando l'ottimizzatore 'ADAM' e impostando mean_squared_error loss.<br><br>\n",
    "Fittiamo il modello per farlo andare 100 epoch con un batch di 32.\n"
   ]
  },
  {
   "cell_type": "code",
   "execution_count": null,
   "metadata": {},
   "outputs": [
    {
     "name": "stdout",
     "output_type": "stream",
     "text": [
      "Epoch 1/100\n",
      "1975/1975 [==============================] - 24s 12ms/step - loss: 0.0111\n",
      "Epoch 2/100\n",
      "1975/1975 [==============================] - 19s 10ms/step - loss: 0.0031\n",
      "Epoch 3/100\n",
      "1975/1975 [==============================] - 20s 10ms/step - loss: 0.0026\n",
      "Epoch 4/100\n",
      "1975/1975 [==============================] - 20s 10ms/step - loss: 0.0027\n",
      "Epoch 5/100\n",
      "1975/1975 [==============================] - 20s 10ms/step - loss: 0.0023\n",
      "Epoch 6/100\n",
      "1975/1975 [==============================] - 20s 10ms/step - loss: 0.0025\n",
      "Epoch 7/100\n",
      "1975/1975 [==============================] - 20s 10ms/step - loss: 0.0026\n",
      "Epoch 8/100\n",
      "1975/1975 [==============================] - 20s 10ms/step - loss: 0.0022\n",
      "Epoch 9/100\n",
      "1975/1975 [==============================] - 20s 10ms/step - loss: 0.0021\n",
      "Epoch 10/100\n",
      "1975/1975 [==============================] - 20s 10ms/step - loss: 0.0019\n",
      "Epoch 11/100\n",
      "1975/1975 [==============================] - 19s 10ms/step - loss: 0.0018\n",
      "Epoch 12/100\n",
      "1975/1975 [==============================] - 20s 10ms/step - loss: 0.0018\n",
      "Epoch 13/100\n",
      "1975/1975 [==============================] - 20s 10ms/step - loss: 0.0023\n",
      "Epoch 14/100\n",
      "1975/1975 [==============================] - 20s 10ms/step - loss: 0.0020\n",
      "Epoch 15/100\n",
      "1975/1975 [==============================] - 21s 10ms/step - loss: 0.0018\n",
      "Epoch 16/100\n",
      "1975/1975 [==============================] - 21s 10ms/step - loss: 0.0016\n",
      "Epoch 17/100\n",
      "1975/1975 [==============================] - 20s 10ms/step - loss: 0.0016\n",
      "Epoch 18/100\n",
      "1975/1975 [==============================] - 20s 10ms/step - loss: 0.0015\n",
      "Epoch 19/100\n",
      "1975/1975 [==============================] - 20s 10ms/step - loss: 0.0014\n",
      "Epoch 20/100\n",
      "1975/1975 [==============================] - 20s 10ms/step - loss: 0.0015\n",
      "Epoch 21/100\n",
      "1975/1975 [==============================] - 20s 10ms/step - loss: 0.0013\n",
      "Epoch 22/100\n",
      "1975/1975 [==============================] - 20s 10ms/step - loss: 0.0013\n",
      "Epoch 23/100\n",
      "1975/1975 [==============================] - 20s 10ms/step - loss: 0.0015\n",
      "Epoch 24/100\n",
      "1975/1975 [==============================] - 20s 10ms/step - loss: 0.0014\n",
      "Epoch 25/100\n",
      "1975/1975 [==============================] - 20s 10ms/step - loss: 0.0013\n",
      "Epoch 26/100\n",
      "1975/1975 [==============================] - 20s 10ms/step - loss: 0.0012\n",
      "Epoch 27/100\n",
      " 384/1975 [====>.........................] - ETA: 16s - loss: 0.0013"
     ]
    }
   ],
   "source": [
    "regressor = Sequential()\n",
    "\n",
    "regressor.add(LSTM(units=50, return_sequences=True, input_shape=(X_train.shape[1], 1)))\n",
    "regressor.add(Dropout(0.2))\n",
    "\n",
    "regressor.add(LSTM(units=50, return_sequences=True))\n",
    "regressor.add(Dropout(0.2))\n",
    "\n",
    "regressor.add(LSTM(units = 50, return_sequences = True))\n",
    "regressor.add(Dropout(0.2))\n",
    "\n",
    "regressor.add(LSTM(units = 50))\n",
    "regressor.add(Dropout(0.2))\n",
    "\n",
    "regressor.add(Dense(units = 1))\n",
    "\n",
    "regressor.compile(optimizer='adam', loss='mean_squared_error')\n",
    "\n",
    "regressor.fit(X_train, y_train, epochs=100, batch_size=32)\n",
    "\n"
   ]
  },
  {
   "cell_type": "code",
   "execution_count": null,
   "metadata": {},
   "outputs": [],
   "source": []
  }
 ],
 "metadata": {
  "kernelspec": {
   "display_name": "Python 3",
   "language": "python",
   "name": "python3"
  },
  "language_info": {
   "codemirror_mode": {
    "name": "ipython",
    "version": 3
   },
   "file_extension": ".py",
   "mimetype": "text/x-python",
   "name": "python",
   "nbconvert_exporter": "python",
   "pygments_lexer": "ipython3",
   "version": "3.7.3"
  }
 },
 "nbformat": 4,
 "nbformat_minor": 2
}
