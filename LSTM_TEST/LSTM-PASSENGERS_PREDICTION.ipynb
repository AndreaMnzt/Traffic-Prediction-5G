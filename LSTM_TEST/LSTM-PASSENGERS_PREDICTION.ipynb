{
 "cells": [
  {
   "cell_type": "code",
   "execution_count": 1,
   "metadata": {},
   "outputs": [
    {
     "data": {
      "image/png": "[encoded data removed]",
      "text/plain": [
       "<Figure size 432x288 with 1 Axes>"
      ]
     },
     "metadata": {
      "needs_background": "light"
     },
     "output_type": "display_data"
    },
    {
     "data": {
      "text/html": [
       "<div>\n",
       "<style scoped>\n",
       "    .dataframe tbody tr th:only-of-type {\n",
       "        vertical-align: middle;\n",
       "    }\n",
       "\n",
       "    .dataframe tbody tr th {\n",
       "        vertical-align: top;\n",
       "    }\n",
       "\n",
       "    .dataframe thead th {\n",
       "        text-align: right;\n",
       "    }\n",
       "</style>\n",
       "<table border=\"1\" class=\"dataframe\">\n",
       "  <thead>\n",
       "    <tr style=\"text-align: right;\">\n",
       "      <th></th>\n",
       "      <th>Passengers</th>\n",
       "    </tr>\n",
       "  </thead>\n",
       "  <tbody>\n",
       "    <tr>\n",
       "      <th>0</th>\n",
       "      <td>112</td>\n",
       "    </tr>\n",
       "    <tr>\n",
       "      <th>1</th>\n",
       "      <td>118</td>\n",
       "    </tr>\n",
       "    <tr>\n",
       "      <th>2</th>\n",
       "      <td>132</td>\n",
       "    </tr>\n",
       "    <tr>\n",
       "      <th>3</th>\n",
       "      <td>129</td>\n",
       "    </tr>\n",
       "    <tr>\n",
       "      <th>4</th>\n",
       "      <td>121</td>\n",
       "    </tr>\n",
       "  </tbody>\n",
       "</table>\n",
       "</div>"
      ],
      "text/plain": [
       "   Passengers\n",
       "0         112\n",
       "1         118\n",
       "2         132\n",
       "3         129\n",
       "4         121"
      ]
     },
     "execution_count": 1,
     "metadata": {},
     "output_type": "execute_result"
    }
   ],
   "source": [
    "# Import librerie base\n",
    "import pandas\n",
    "import matplotlib.pyplot as plt\n",
    "\n",
    "# Data visualization\n",
    "dataset = pandas.read_csv('airline-passengers.csv', usecols=[1], engine='python')\n",
    "plt.plot(dataset)\n",
    "plt.show()\n",
    "dataset.head()"
   ]
  },
  {
   "cell_type": "code",
   "execution_count": 2,
   "metadata": {},
   "outputs": [
    {
     "name": "stderr",
     "output_type": "stream",
     "text": [
      "Using TensorFlow backend.\n"
     ]
    }
   ],
   "source": [
    "import numpy as np\n",
    "import matplotlib.pyplot as plt\n",
    "import pandas as pd\n",
    "import math\n",
    "\n",
    "# Lib sk-learn\n",
    "from sklearn.preprocessing import MinMaxScaler\n",
    "from sklearn.metrics import mean_squared_error\n",
    "\n",
    "# Lib Keras\n",
    "from keras.models import Sequential\n",
    "from keras.layers import Dense\n",
    "from keras.layers import LSTM\n",
    "\n",
    "# Fissiamo il random seed\n",
    "np.random.seed(7)"
   ]
  },
  {
   "cell_type": "markdown",
   "metadata": {},
   "source": [
    "## Caricamento Dataset"
   ]
  },
  {
   "cell_type": "code",
   "execution_count": 3,
   "metadata": {},
   "outputs": [],
   "source": [
    "# Carica i dati come pandas dataframe\n",
    "dataframe = pd.read_csv('airline-passengers.csv', usecols=[1], engine='python')\n",
    "\n",
    "# Estrai i valori scartando indici e header\n",
    "dataset = dataframe.values\n",
    "\n",
    "# Forza la conversione a float32 per tutti i valori\n",
    "dataset = dataset.astype('float32')\n",
    "\n",
    "# crea oggetto scaler per convertire in intervallo (0, 1)\n",
    "scaler = MinMaxScaler(feature_range=(0, 1))\n",
    "\n",
    "# Converti i dati nell'intervallo 0-1\n",
    "dataset = scaler.fit_transform(dataset)\n"
   ]
  },
  {
   "cell_type": "markdown",
   "metadata": {},
   "source": [
    "## Separazione Train-Test Set"
   ]
  },
  {
   "cell_type": "code",
   "execution_count": 4,
   "metadata": {},
   "outputs": [],
   "source": [
    "# Train = 75% ---- Test = 25%\n",
    "m_train = int(len(dataset) * 0.75)\n",
    "train, test = dataset[0:m_train, :], dataset[m_train:-1, :]\n"
   ]
  },
  {
   "cell_type": "code",
   "execution_count": 5,
   "metadata": {},
   "outputs": [],
   "source": [
    "# Genera dataset con i label traslati di un time-step\n",
    "def create_dataset(dataset, look_back=1):\n",
    "    \n",
    "    # Inizializza le liste\n",
    "    dataX, dataY = [], []\n",
    "    \n",
    "    # dataX = dati effettivi\n",
    "    # dataY = dati traslati di un timestep avanti\n",
    "    for i in range(len(dataset) - look_back - 1):\n",
    "        a = dataset[i:(i+look_back), 0]\n",
    "        dataX.append(a)\n",
    "        dataY.append(dataset[i + look_back, 0])\n",
    "    \n",
    "    # Ritorna i vettori sottoforma di np-array\n",
    "    return np.array(dataX), np.array(dataY)"
   ]
  },
  {
   "cell_type": "code",
   "execution_count": 6,
   "metadata": {},
   "outputs": [],
   "source": [
    "# Utilizzando la funzione appena definita generiamo\n",
    "# i dataset con i tempi scalati\n",
    "look_back = 1\n",
    "train_X, train_Y = create_dataset(train, look_back)\n",
    "test_X, test_Y = create_dataset(test, look_back)"
   ]
  },
  {
   "cell_type": "markdown",
   "metadata": {},
   "source": [
    "LSTM si aspetta come input dati in forma [samples, time-steps, features], attualmente i nostri dati sono in forma [samples, features] quindi dobbiamo rishaparli."
   ]
  },
  {
   "cell_type": "code",
   "execution_count": 7,
   "metadata": {},
   "outputs": [],
   "source": [
    "train_X = np.reshape(train_X, (train_X.shape[0], 1, train_X.shape[1]))\n",
    "test_X = np.reshape(test_X, (test_X.shape[0], 1, test_X.shape[1]))"
   ]
  },
  {
   "cell_type": "markdown",
   "metadata": {},
   "source": [
    "## Costruzione del Network-LSTM\n",
    "Il modello avrà:\n",
    "- 1 layer visibile con 1 input\n",
    "- 1 hidden layer con 4 LSTM-NEURONS\n",
    "- 1 output layer che predice 1 output<br>\n",
    "\n",
    "Viene utilizzato la funzione di default sigmoid e il network sarà allenato per 100 epoch con un batch_size=1."
   ]
  },
  {
   "cell_type": "code",
   "execution_count": 8,
   "metadata": {},
   "outputs": [
    {
     "name": "stdout",
     "output_type": "stream",
     "text": [
      "Epoch 1/100\n",
      " - 0s - loss: 0.0564\n",
      "Epoch 2/100\n",
      " - 0s - loss: 0.0243\n",
      "Epoch 3/100\n",
      " - 0s - loss: 0.0193\n",
      "Epoch 4/100\n",
      " - 0s - loss: 0.0170\n",
      "Epoch 5/100\n",
      " - 0s - loss: 0.0147\n",
      "Epoch 6/100\n",
      " - 0s - loss: 0.0126\n",
      "Epoch 7/100\n",
      " - 0s - loss: 0.0105\n",
      "Epoch 8/100\n",
      " - 0s - loss: 0.0087\n",
      "Epoch 9/100\n",
      " - 0s - loss: 0.0069\n",
      "Epoch 10/100\n",
      " - 0s - loss: 0.0055\n",
      "Epoch 11/100\n",
      " - 0s - loss: 0.0045\n",
      "Epoch 12/100\n",
      " - 0s - loss: 0.0036\n",
      "Epoch 13/100\n",
      " - 0s - loss: 0.0032\n",
      "Epoch 14/100\n",
      " - 0s - loss: 0.0029\n",
      "Epoch 15/100\n",
      " - 0s - loss: 0.0027\n",
      "Epoch 16/100\n",
      " - 0s - loss: 0.0027\n",
      "Epoch 17/100\n",
      " - 0s - loss: 0.0027\n",
      "Epoch 18/100\n",
      " - 0s - loss: 0.0026\n",
      "Epoch 19/100\n",
      " - 0s - loss: 0.0027\n",
      "Epoch 20/100\n",
      " - 0s - loss: 0.0026\n",
      "Epoch 21/100\n",
      " - 0s - loss: 0.0026\n",
      "Epoch 22/100\n",
      " - 0s - loss: 0.0027\n",
      "Epoch 23/100\n",
      " - 0s - loss: 0.0026\n",
      "Epoch 24/100\n",
      " - 0s - loss: 0.0026\n",
      "Epoch 25/100\n",
      " - 0s - loss: 0.0026\n",
      "Epoch 26/100\n",
      " - 0s - loss: 0.0026\n",
      "Epoch 27/100\n",
      " - 0s - loss: 0.0027\n",
      "Epoch 28/100\n",
      " - 0s - loss: 0.0026\n",
      "Epoch 29/100\n",
      " - 0s - loss: 0.0026\n",
      "Epoch 30/100\n",
      " - 0s - loss: 0.0026\n",
      "Epoch 31/100\n",
      " - 0s - loss: 0.0026\n",
      "Epoch 32/100\n",
      " - 0s - loss: 0.0026\n",
      "Epoch 33/100\n",
      " - 0s - loss: 0.0026\n",
      "Epoch 34/100\n",
      " - 0s - loss: 0.0026\n",
      "Epoch 35/100\n",
      " - 0s - loss: 0.0026\n",
      "Epoch 36/100\n",
      " - 0s - loss: 0.0026\n",
      "Epoch 37/100\n",
      " - 0s - loss: 0.0026\n",
      "Epoch 38/100\n",
      " - 0s - loss: 0.0025\n",
      "Epoch 39/100\n",
      " - 0s - loss: 0.0026\n",
      "Epoch 40/100\n",
      " - 0s - loss: 0.0026\n",
      "Epoch 41/100\n",
      " - 0s - loss: 0.0027\n",
      "Epoch 42/100\n",
      " - 0s - loss: 0.0026\n",
      "Epoch 43/100\n",
      " - 0s - loss: 0.0026\n",
      "Epoch 44/100\n",
      " - 0s - loss: 0.0025\n",
      "Epoch 45/100\n",
      " - 0s - loss: 0.0027\n",
      "Epoch 46/100\n",
      " - 0s - loss: 0.0026\n",
      "Epoch 47/100\n",
      " - 0s - loss: 0.0026\n",
      "Epoch 48/100\n",
      " - 0s - loss: 0.0026\n",
      "Epoch 49/100\n",
      " - 0s - loss: 0.0026\n",
      "Epoch 50/100\n",
      " - 0s - loss: 0.0026\n",
      "Epoch 51/100\n",
      " - 0s - loss: 0.0026\n",
      "Epoch 52/100\n",
      " - 0s - loss: 0.0026\n",
      "Epoch 53/100\n",
      " - 0s - loss: 0.0026\n",
      "Epoch 54/100\n",
      " - 0s - loss: 0.0027\n",
      "Epoch 55/100\n",
      " - 0s - loss: 0.0025\n",
      "Epoch 56/100\n",
      " - 0s - loss: 0.0027\n",
      "Epoch 57/100\n",
      " - 0s - loss: 0.0027\n",
      "Epoch 58/100\n",
      " - 0s - loss: 0.0026\n",
      "Epoch 59/100\n",
      " - 0s - loss: 0.0028\n",
      "Epoch 60/100\n",
      " - 0s - loss: 0.0027\n",
      "Epoch 61/100\n",
      " - 0s - loss: 0.0026\n",
      "Epoch 62/100\n",
      " - 0s - loss: 0.0026\n",
      "Epoch 63/100\n",
      " - 0s - loss: 0.0025\n",
      "Epoch 64/100\n",
      " - 0s - loss: 0.0026\n",
      "Epoch 65/100\n",
      " - 0s - loss: 0.0025\n",
      "Epoch 66/100\n",
      " - 0s - loss: 0.0026\n",
      "Epoch 67/100\n",
      " - 0s - loss: 0.0026\n",
      "Epoch 68/100\n",
      " - 0s - loss: 0.0027\n",
      "Epoch 69/100\n",
      " - 0s - loss: 0.0025\n",
      "Epoch 70/100\n",
      " - 0s - loss: 0.0025\n",
      "Epoch 71/100\n",
      " - 0s - loss: 0.0026\n",
      "Epoch 72/100\n",
      " - 0s - loss: 0.0026\n",
      "Epoch 73/100\n",
      " - 0s - loss: 0.0025\n",
      "Epoch 74/100\n",
      " - 0s - loss: 0.0027\n",
      "Epoch 75/100\n",
      " - 0s - loss: 0.0025\n",
      "Epoch 76/100\n",
      " - 0s - loss: 0.0025\n",
      "Epoch 77/100\n",
      " - 0s - loss: 0.0025\n",
      "Epoch 78/100\n",
      " - 0s - loss: 0.0025\n",
      "Epoch 79/100\n",
      " - 0s - loss: 0.0027\n",
      "Epoch 80/100\n",
      " - 0s - loss: 0.0025\n",
      "Epoch 81/100\n",
      " - 0s - loss: 0.0025\n",
      "Epoch 82/100\n",
      " - 0s - loss: 0.0026\n",
      "Epoch 83/100\n",
      " - 0s - loss: 0.0026\n",
      "Epoch 84/100\n",
      " - 0s - loss: 0.0026\n",
      "Epoch 85/100\n",
      " - 0s - loss: 0.0026\n",
      "Epoch 86/100\n",
      " - 0s - loss: 0.0025\n",
      "Epoch 87/100\n",
      " - 0s - loss: 0.0025\n",
      "Epoch 88/100\n",
      " - 0s - loss: 0.0025\n",
      "Epoch 89/100\n",
      " - 0s - loss: 0.0026\n",
      "Epoch 90/100\n",
      " - 0s - loss: 0.0025\n",
      "Epoch 91/100\n",
      " - 0s - loss: 0.0026\n",
      "Epoch 92/100\n",
      " - 0s - loss: 0.0026\n",
      "Epoch 93/100\n",
      " - 0s - loss: 0.0025\n",
      "Epoch 94/100\n",
      " - 0s - loss: 0.0025\n",
      "Epoch 95/100\n",
      " - 0s - loss: 0.0025\n",
      "Epoch 96/100\n",
      " - 0s - loss: 0.0025\n",
      "Epoch 97/100\n",
      " - 0s - loss: 0.0026\n",
      "Epoch 98/100\n",
      " - 0s - loss: 0.0026\n",
      "Epoch 99/100\n",
      " - 0s - loss: 0.0024\n",
      "Epoch 100/100\n",
      " - 0s - loss: 0.0026\n"
     ]
    },
    {
     "data": {
      "text/plain": [
       "<keras.callbacks.callbacks.History at 0x1eefe507d48>"
      ]
     },
     "execution_count": 8,
     "metadata": {},
     "output_type": "execute_result"
    }
   ],
   "source": [
    "# Crea e fitta il network LSTM\n",
    "\n",
    "# Crea modello\n",
    "model = Sequential()\n",
    "\n",
    "# Aggiungi i 4 neuroni del Hidden-Layer\n",
    "model.add(LSTM(10, input_shape=(1, look_back)))\n",
    "\n",
    "# Aggiungi il neurone dell'ultimo layer (output)\n",
    "model.add(Dense(1))\n",
    "\n",
    "# Compila il modello\n",
    "model.compile(loss='mean_squared_error', optimizer='adam')\n",
    "\n",
    "# fitta il modello col training-set\n",
    "model.fit(train_X, train_Y, epochs=100, batch_size=1, verbose=2)\n"
   ]
  },
  {
   "cell_type": "code",
   "execution_count": 9,
   "metadata": {},
   "outputs": [
    {
     "name": "stdout",
     "output_type": "stream",
     "text": [
      "Train Score: 25.406324750592898\n",
      "Test Score: 49.98272408909321\n"
     ]
    }
   ],
   "source": [
    "# Fai predizione\n",
    "train_predict = model.predict(train_X)\n",
    "test_predict = model.predict(test_X)\n",
    "\n",
    "# Inverti lo scaler per riportare i dati in forma originale\n",
    "\n",
    "# Y veri\n",
    "train_Y = scaler.inverse_transform([train_Y])\n",
    "test_Y = scaler.inverse_transform([test_Y])\n",
    "\n",
    "# Y predetti\n",
    "train_predict = scaler.inverse_transform(train_predict)\n",
    "test_predict = scaler.inverse_transform(test_predict)\n",
    "\n",
    "# Ricalcola l'MSE nello spazio originale\n",
    "trainScore = np.sqrt(mean_squared_error(train_Y[0], train_predict[:, 0]))\n",
    "testScore = np.sqrt(mean_squared_error(test_Y[0], test_predict[:, 0]))\n",
    "\n",
    "print(f'Train Score: {trainScore}')\n",
    "print(f'Test Score: {testScore}')\n"
   ]
  },
  {
   "cell_type": "markdown",
   "metadata": {},
   "source": [
    "# Plot delle Predizioni"
   ]
  },
  {
   "cell_type": "code",
   "execution_count": 10,
   "metadata": {},
   "outputs": [],
   "source": [
    "# shift delle predizioni di training set\n",
    "train_prediction_plot = np.empty_like(dataset)\n",
    "train_prediction_plot[:, :] = np.nan\n",
    "train_prediction_plot[look_back:len(train_predict) + look_back, :] = train_predict\n",
    "\n",
    "# shift delle predizioni del test set\n",
    "test_prediction_plot = np.empty_like(dataset)\n",
    "test_prediction_plot[:, :] = np.nan\n",
    "test_prediction_plot[len(train_predict)+(look_back*2)+2:len(dataset)-1, :] = test_predict\n",
    "#print(test_prediction_plot[len(train_predict)+(look_back*2)+2:len(dataset)-1, :].shape)\n",
    "#print(test_predict.shape)"
   ]
  },
  {
   "cell_type": "code",
   "execution_count": 11,
   "metadata": {},
   "outputs": [
    {
     "data": {
      "image/png": "[encoded data removed]",
      "text/plain": [
       "<Figure size 432x288 with 1 Axes>"
      ]
     },
     "metadata": {
      "needs_background": "light"
     },
     "output_type": "display_data"
    }
   ],
   "source": [
    "plt.plot(scaler.inverse_transform(dataset))\n",
    "plt.plot(train_prediction_plot)\n",
    "plt.plot(test_prediction_plot)\n",
    "plt.show()"
   ]
  },
  {
   "cell_type": "code",
   "execution_count": null,
   "metadata": {},
   "outputs": [],
   "source": []
  }
 ],
 "metadata": {
  "kernelspec": {
   "display_name": "Python 3",
   "language": "python",
   "name": "python3"
  },
  "language_info": {
   "codemirror_mode": {
    "name": "ipython",
    "version": 3
   },
   "file_extension": ".py",
   "mimetype": "text/x-python",
   "name": "python",
   "nbconvert_exporter": "python",
   "pygments_lexer": "ipython3",
   "version": "3.7.3"
  }
 },
 "nbformat": 4,
 "nbformat_minor": 2
}
