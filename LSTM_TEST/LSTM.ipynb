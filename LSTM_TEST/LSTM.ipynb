{
 "cells": [
  {
   "cell_type": "code",
   "execution_count": 17,
   "metadata": {
    "scrolled": true
   },
   "outputs": [
    {
     "name": "stdout",
     "output_type": "stream",
     "text": [
      "RMSE: 136.761\n"
     ]
    },
    {
     "data": {
      "image/png": "[encoded data removed]",
      "text/plain": [
       "<Figure size 432x288 with 1 Axes>"
      ]
     },
     "metadata": {
      "needs_background": "light"
     },
     "output_type": "display_data"
    }
   ],
   "source": [
    "from pandas import read_csv\n",
    "from pandas import datetime\n",
    "from sklearn.metrics import mean_squared_error\n",
    "from math import sqrt\n",
    "from matplotlib import pyplot\n",
    "\n",
    "# load dataset\n",
    "def parser(x):\n",
    "\treturn datetime.strptime('190'+x, '%Y-%m')\n",
    "series = read_csv('shampoo-sales.csv', header=0, parse_dates=[0], index_col=0, squeeze=True, date_parser=parser)\n",
    "\n",
    "# split data into train and test\n",
    "X = series.values\n",
    "train, test = X[0:-12], X[-12:]\n",
    "\n",
    "# walk-forward validation\n",
    "history = [x for x in train]\n",
    "predictions = list()\n",
    "for i in range(len(test)):\n",
    "\t# make prediction\n",
    "\tpredictions.append(history[-1])\n",
    "\t# observation\n",
    "\thistory.append(test[i])\n",
    "\n",
    "# report performance\n",
    "rmse = sqrt(mean_squared_error(test, predictions))\n",
    "print('RMSE: %.3f' % rmse)\n",
    "\n",
    "# line plot of observed vs predicted\n",
    "pyplot.plot(test, label='test')\n",
    "pyplot.plot(predictions, label='predictions')\n",
    "pyplot.legend()\n",
    "pyplot.show()\n"
   ]
  },
  {
   "cell_type": "markdown",
   "metadata": {},
   "source": [
    "Il modello LSTM in Keras assume che i dati siano divisi per componenti INPUT(X) e OUTPUT(Y). <br>\n",
    "E' possibile farlo usando la funzione shift() in Pandas che shifterà tutti i valori per un valore predefinito. A noi serve shiftare tutto di 1.<br>\n",
    "Possiamo contatenare queste due serie insieme per creare un DataFrame pronto per il Supervised Learning. Il primo valore della serie shitftata avrà come valore NaN, possiamo rimpiazzarlo con 0."
   ]
  },
  {
   "cell_type": "code",
   "execution_count": 8,
   "metadata": {},
   "outputs": [],
   "source": [
    "# frame a sequence as a supervised learning problem\n",
    "def timeseries_to_supervised(data, lag=1):\n",
    "    df = DataFrame(data)\n",
    "    columns = [df.shift(i) for i in range(1, lag+1)]\n",
    "    columns.append(df)\n",
    "    df = concat(columns, axis=1)\n",
    "    df.fillna(0, inplace=True)\n",
    "    return df"
   ]
  },
  {
   "cell_type": "code",
   "execution_count": 18,
   "metadata": {},
   "outputs": [
    {
     "name": "stdout",
     "output_type": "stream",
     "text": [
      "       0      0\n",
      "0    0.0  266.0\n",
      "1  266.0  145.9\n",
      "2  145.9  183.1\n",
      "3  183.1  119.3\n",
      "4  119.3  180.3\n"
     ]
    }
   ],
   "source": [
    "from pandas import read_csv\n",
    "from pandas import datetime\n",
    "from pandas import DataFrame\n",
    "from pandas import concat\n",
    " \n",
    "# frame a sequence as a supervised learning problem\n",
    "def timeseries_to_supervised(data, lag=1):\n",
    "\tdf = DataFrame(data)\n",
    "\tcolumns = [df.shift(i) for i in range(1, lag+1)]\n",
    "\tcolumns.append(df)\n",
    "\tdf = concat(columns, axis=1)\n",
    "\tdf.fillna(0, inplace=True)\n",
    "\treturn df\n",
    " \n",
    "# load dataset\n",
    "def parser(x):\n",
    "\treturn datetime.strptime('190'+x, '%Y-%m')\n",
    "series = read_csv('shampoo-sales.csv', header=0, parse_dates=[0], index_col=0, squeeze=True, date_parser=parser)\n",
    "# transform to supervised learning\n",
    "X = series.values\n",
    "supervised = timeseries_to_supervised(X, 1)\n",
    "print(supervised.head())\n"
   ]
  },
  {
   "cell_type": "markdown",
   "metadata": {},
   "source": [
    "Il dataset attuale non è stazionario, infatti la sua struttura dipende dal tempo: possiamo notare un tren crescente nei dati.<br>\n",
    "Questo trend può essere rimosso dalle osservazioni, e poi ri-aggiunto più tardi nelle predizioni per calcolare l'errore.<br>\n",
    "Un metodo standard per rimuovere i trend è la differenziazione. Cioè sotrarre dal valore del time step corrente quello precedente. Così otteniamo una serie di difference.<br>\n",
    "Possiamo ottenerlo automaticamente usando la funzione diff() di Pandas."
   ]
  },
  {
   "cell_type": "code",
   "execution_count": 19,
   "metadata": {},
   "outputs": [],
   "source": [
    "# create a differenced series\n",
    "def difference(dataset, interval=1):\n",
    "\tdiff = list()\n",
    "\tfor i in range(interval, len(dataset)):\n",
    "\t\tvalue = dataset[i] - dataset[i - interval]\n",
    "\t\tdiff.append(value)\n",
    "\treturn Series(diff)"
   ]
  },
  {
   "cell_type": "code",
   "execution_count": 20,
   "metadata": {},
   "outputs": [],
   "source": [
    " #invert differenced value\n",
    "def inverse_difference(history, yhat, interval=1):\n",
    "\treturn yhat + history[-interval]"
   ]
  },
  {
   "cell_type": "markdown",
   "metadata": {},
   "source": [
    "Adesso possiamo testare le funzioni appena implementate sul dataset completo."
   ]
  },
  {
   "cell_type": "code",
   "execution_count": 21,
   "metadata": {},
   "outputs": [
    {
     "name": "stdout",
     "output_type": "stream",
     "text": [
      "Month\n",
      "1901-01-01    266.0\n",
      "1901-02-01    145.9\n",
      "1901-03-01    183.1\n",
      "1901-04-01    119.3\n",
      "1901-05-01    180.3\n",
      "Name: Sales, dtype: float64\n",
      "0   -120.1\n",
      "1     37.2\n",
      "2    -63.8\n",
      "3     61.0\n",
      "4    -11.8\n",
      "dtype: float64\n",
      "0    145.9\n",
      "1    183.1\n",
      "2    119.3\n",
      "3    180.3\n",
      "4    168.5\n",
      "dtype: float64\n"
     ]
    }
   ],
   "source": [
    "from pandas import read_csv\n",
    "from pandas import datetime\n",
    "from pandas import Series\n",
    " \n",
    "# create a differenced series\n",
    "def difference(dataset, interval=1):\n",
    "\tdiff = list()\n",
    "\tfor i in range(interval, len(dataset)):\n",
    "\t\tvalue = dataset[i] - dataset[i - interval]\n",
    "\t\tdiff.append(value)\n",
    "\treturn Series(diff)\n",
    " \n",
    "# invert differenced value\n",
    "def inverse_difference(history, yhat, interval=1):\n",
    "\treturn yhat + history[-interval]\n",
    " \n",
    "# load dataset\n",
    "def parser(x):\n",
    "\treturn datetime.strptime('190'+x, '%Y-%m')\n",
    "series = read_csv('shampoo-sales.csv', header=0, parse_dates=[0], index_col=0, squeeze=True, date_parser=parser)\n",
    "print(series.head())\n",
    "# transform to be stationary\n",
    "differenced = difference(series, 1)\n",
    "print(differenced.head())\n",
    "# invert transform\n",
    "inverted = list()\n",
    "for i in range(len(differenced)):\n",
    "\tvalue = inverse_difference(series, differenced[i], len(series)-i)\n",
    "\tinverted.append(value)\n",
    "inverted = Series(inverted)\n",
    "print(inverted.head())"
   ]
  },
  {
   "cell_type": "markdown",
   "metadata": {},
   "source": [
    "Come gli altri NN, anche LSTM-NN si aspetta dei valori di input entro dei range per le funzioni di attivazione.<br>\n",
    "La funzione di attivazione di default è l'hyperbolic tangent (tanh), di cui output è compreso tra -1 e 1. Questo è il range preferibile per i valori della serie temporale.<br>\n",
    "Per rendere equo l'esperimento, i valori dei coefficienti di scala (min e max) devono essere calcolati sul set di dati di addestramento e applicati per ridimensionare il set di dati di test e tutte le previsioni. Questo per evitare di contaminare l'esperimento con le conoscenze del set di dati di test, che potrebbe dare al modello un piccolo vantaggio.<br>\n",
    "Possiamo portare il dataset in range [-1, 1] usando la classe MinMaxScaler. Come le caltre classi di scikit-learner ha bisogno di dati sotto forma di matrici righe-colonne. Quindi dobbiamo fare un re-shape dei nostri array numpy.\n",
    "Abbiamo bisogno anche di una funzione che ritorni i valori scalati nella forma originale per poter calcolare gli errori. Mettendo le cose insieme otteniamo il seguente script."
   ]
  },
  {
   "cell_type": "code",
   "execution_count": 23,
   "metadata": {},
   "outputs": [
    {
     "name": "stdout",
     "output_type": "stream",
     "text": [
      "Month\n",
      "1901-01-01    266.0\n",
      "1901-02-01    145.9\n",
      "1901-03-01    183.1\n",
      "1901-04-01    119.3\n",
      "1901-05-01    180.3\n",
      "Name: Sales, dtype: float64\n",
      "0   -0.478585\n",
      "1   -0.905456\n",
      "2   -0.773236\n",
      "3   -1.000000\n",
      "4   -0.783188\n",
      "dtype: float64\n",
      "0    266.0\n",
      "1    145.9\n",
      "2    183.1\n",
      "3    119.3\n",
      "4    180.3\n",
      "dtype: float64\n"
     ]
    }
   ],
   "source": [
    "from pandas import read_csv\n",
    "from pandas import datetime\n",
    "from pandas import Series\n",
    "from sklearn.preprocessing import MinMaxScaler\n",
    "\n",
    "# load dataset\n",
    "def parser(x):\n",
    "\treturn datetime.strptime('190'+x, '%Y-%m')\n",
    "series = read_csv('shampoo-sales.csv', header=0, parse_dates=[0], index_col=0, squeeze=True, date_parser=parser)\n",
    "print(series.head())\n",
    "\n",
    "# transform scale\n",
    "X = series.values\n",
    "X = X.reshape(len(X), 1)\n",
    "scaler = MinMaxScaler(feature_range=(-1, 1))\n",
    "scaler = scaler.fit(X)\n",
    "scaled_X = scaler.transform(X)\n",
    "scaled_series = Series(scaled_X[:, 0])\n",
    "print(scaled_series.head())\n",
    "\n",
    "# invert transform\n",
    "inverted_X = scaler.inverse_transform(scaled_X)\n",
    "inverted_series = Series(inverted_X[:, 0])\n",
    "print(inverted_series.head())"
   ]
  },
  {
   "cell_type": "markdown",
   "metadata": {},
   "source": [
    "## Sviluppo del modello LSTM\n",
    "Il pro di questo modello è che può imparare lunghe sequenze senza dover dipendere da finestre temporali pre-specificate.<br>\n",
    "In Keras viene definito come stateful, e implicca il settaggio del parametro 'stateful=True' quando si definisce un layer LSTM.<br>\n",
    "Di default un layer LSTM in Keras mantiene lo stato tra i dati in un batch. Un batch è un numero di righe del training-set a dimensione fissa che definisce come e quanti feature processare prima dell'aggiornamento dei pesi. <br>\n",
    "Il layer LSTM si aspetta come input una matrice di dimensioni [samples, time-steps, features]:<br>\n",
    "- samples: sono le osservazioni, tipicamente le righe del dataset.<br>\n",
    "- time-steps: sono i tempi i cui vengono rileari le variabili di una osservazione <br>\n",
    "- features: sono le variabili misurare ai vari tempi di osservazione.<br>\n",
    "\n",
    "In questo tutoria viene utilizzato:\n",
    "- Batch Size: 1\n",
    "- Epochs: 1500\n",
    "- Neurons: 1\n"
   ]
  },
  {
   "cell_type": "code",
   "execution_count": 24,
   "metadata": {},
   "outputs": [],
   "source": [
    "def fit_lstm(train, batch_size, nb_epoch, neurons):\n",
    "    \n",
    "    # X=input, y=output\n",
    "    # devono essere ri-shapati in forma samples/time-steps/features\n",
    "    X, y = train[:, 0:-1], train[:, -1]\n",
    "    X = X.reshape(X.shape[0], 1, X.shape[1])\n",
    "    \n",
    "    # Usando le SEQUENTIAL KERAS API per definire il network, con le seguenti righe creiamo e compiliamo il network\n",
    "    model = Sequential()\n",
    "    model.add(LSTM(neurons, batch_input_shape=(batch_size, X.shape[1], X.shape[2]), stateful=True))\n",
    "    model.add(Dense(1))\n",
    "    model.compile(loss='mean_squared_error', optimizer='adam')\n",
    "    \n",
    "    # Il seguente ciclo adatta manualmente il network ai training-data\n",
    "    for i in range(nb_epoch):\n",
    "        model.fit(X, y, epochs=1, batch_size=batch_size, verbose=0, shuffle=False)\n",
    "        model.reset_states()\n",
    "\n",
    "    return model"
   ]
  },
  {
   "cell_type": "markdown",
   "metadata": {},
   "source": [
    "# Previsioni con LSTM\n",
    "Una volta che il modello LSTM è stato fittato al training_set può essere utilizzato per fare predizioni.<br>\n",
    "Le predizioni possono essere fatte in modi differenti:\n",
    "- Modalità fissa: fittare tutto il training-set e fare le predizioni su tutto il test-set \n",
    "- Modalità dinamica: ri-fittare il modello o aggiornare il modello ad ogni time-step del test-set come nuove osservazioni.\n",
    "Il secondo metodo ovviamente dovrebbe dare risultati migliori, ma per semplicità in questo tutorial verrà mostrato il primo metodo.<br>\n",
    "Per fare le predzioni possiamo chiamare la funzione predict(): bisogna passare in input un 3D-Numpy-Array. In questo caso sarà un array di un valore, cioè l'osservazione del tempo precedente.<br>\n",
    "predict() ritorna un a array di predizioni, uno per ogni riga di input fornito. Fornendo un singolo input, come output otterremo un 2D-numpy-array con un valore.<br>\n",
    "Possiamo catturare questo behaviour con la nostra funzion       : dato un fit-model una batch-size utilizzata per allenare il modello (es.1), e una riga del test-set, la funzione ritornerà la predizione come un singolo valore floating point."
   ]
  },
  {
   "cell_type": "code",
   "execution_count": 25,
   "metadata": {},
   "outputs": [],
   "source": [
    "def forecast(model, batch_size, row):\n",
    "\tX = row[0:-1]\n",
    "\tX = X.reshape(1, 1, len(X))\n",
    "\tyhat = model.predict(X, batch_size=batch_size)\n",
    "\treturn yhat[0,0]"
   ]
  },
  {
   "cell_type": "markdown",
   "metadata": {},
   "source": [
    "# Esempio Completo di LSTM\n",
    "Riassumendo tutti i punti precedenti:\n",
    "- Caricare i file da CSV.\n",
    "- Trasformare i dati in modo da renderli compatibili col modello LSTM:\n",
    "        - Transforming the data to a supervised learning problem.\n",
    "        - Transforming the data to be stationary.\n",
    "        - Transforming the data so that it has the scale -1 to 1.\n",
    "- Fittare LSTM network model con i training data.\n",
    "- Valutare LSTM model con i test data.\n",
    "- Report delle performance delle predizioni.\n"
   ]
  },
  {
   "cell_type": "code",
   "execution_count": 4,
   "metadata": {},
   "outputs": [
    {
     "name": "stderr",
     "output_type": "stream",
     "text": [
      "C:\\Users\\Kraing\\Anaconda3\\envs\\tensorflow_env\\lib\\site-packages\\ipykernel_launcher.py:5: FutureWarning: The pandas.datetime class is deprecated and will be removed from pandas in a future version. Import from datetime module instead.\n",
      "  \"\"\"\n"
     ]
    },
    {
     "name": "stdout",
     "output_type": "stream",
     "text": [
      "Month=1, Predicted=279.369221, Expected=339.700000\n",
      "Month=2, Predicted=369.033121, Expected=440.400000\n",
      "Month=3, Predicted=351.296270, Expected=315.900000\n",
      "Month=4, Predicted=400.622232, Expected=439.300000\n",
      "Month=5, Predicted=357.009609, Expected=401.300000\n",
      "Month=6, Predicted=449.504217, Expected=437.400000\n",
      "Month=7, Predicted=408.722569, Expected=575.500000\n",
      "Month=8, Predicted=435.900595, Expected=407.600000\n",
      "Month=9, Predicted=477.456007, Expected=682.000000\n",
      "Month=10, Predicted=528.256872, Expected=475.300000\n",
      "Month=11, Predicted=457.296297, Expected=581.300000\n",
      "Month=12, Predicted=484.872890, Expected=646.900000\n",
      "Test RMSE: 103.472\n"
     ]
    },
    {
     "data": {
      "image/png": "[encoded data removed]",
      "text/plain": [
       "<Figure size 432x288 with 1 Axes>"
      ]
     },
     "metadata": {
      "needs_background": "light"
     },
     "output_type": "display_data"
    }
   ],
   "source": [
    "from pandas import DataFrame\n",
    "from pandas import Series\n",
    "from pandas import concat\n",
    "from pandas import read_csv\n",
    "from pandas import datetime\n",
    "from sklearn.metrics import mean_squared_error\n",
    "from sklearn.preprocessing import MinMaxScaler\n",
    "from keras.models import Sequential\n",
    "from keras.layers import Dense\n",
    "from keras.layers import LSTM\n",
    "from math import sqrt\n",
    "from matplotlib import pyplot\n",
    "import numpy\n",
    " \n",
    "# date-time parsing function for loading the dataset\n",
    "def parser(x):\n",
    "\treturn datetime.strptime('190'+x, '%Y-%m')\n",
    " \n",
    "# frame a sequence as a supervised learning problem\n",
    "def timeseries_to_supervised(data, lag=1):\n",
    "\tdf = DataFrame(data)\n",
    "\tcolumns = [df.shift(i) for i in range(1, lag+1)]\n",
    "\tcolumns.append(df)\n",
    "\tdf = concat(columns, axis=1)\n",
    "\tdf.fillna(0, inplace=True)\n",
    "\treturn df\n",
    " \n",
    "# create a differenced series\n",
    "def difference(dataset, interval=1):\n",
    "\tdiff = list()\n",
    "\tfor i in range(interval, len(dataset)):\n",
    "\t\tvalue = dataset[i] - dataset[i - interval]\n",
    "\t\tdiff.append(value)\n",
    "\treturn Series(diff)\n",
    " \n",
    "# invert differenced value\n",
    "def inverse_difference(history, yhat, interval=1):\n",
    "\treturn yhat + history[-interval]\n",
    " \n",
    "# scale train and test data to [-1, 1]\n",
    "def scale(train, test):\n",
    "\t# fit scaler\n",
    "\tscaler = MinMaxScaler(feature_range=(-1, 1))\n",
    "\tscaler = scaler.fit(train)\n",
    "\t# transform train\n",
    "\ttrain = train.reshape(train.shape[0], train.shape[1])\n",
    "\ttrain_scaled = scaler.transform(train)\n",
    "\t# transform test\n",
    "\ttest = test.reshape(test.shape[0], test.shape[1])\n",
    "\ttest_scaled = scaler.transform(test)\n",
    "\treturn scaler, train_scaled, test_scaled\n",
    " \n",
    "# inverse scaling for a forecasted value\n",
    "def invert_scale(scaler, X, value):\n",
    "\tnew_row = [x for x in X] + [value]\n",
    "\tarray = numpy.array(new_row)\n",
    "\tarray = array.reshape(1, len(array))\n",
    "\tinverted = scaler.inverse_transform(array)\n",
    "\treturn inverted[0, -1]\n",
    " \n",
    "# fit an LSTM network to training data\n",
    "def fit_lstm(train, batch_size, nb_epoch, neurons):\n",
    "\tX, y = train[:, 0:-1], train[:, -1]\n",
    "\tX = X.reshape(X.shape[0], 1, X.shape[1])\n",
    "\tmodel = Sequential()\n",
    "\tmodel.add(LSTM(neurons, batch_input_shape=(batch_size, X.shape[1], X.shape[2]), stateful=True))\n",
    "\tmodel.add(Dense(1))\n",
    "\tmodel.compile(loss='mean_squared_error', optimizer='adam')\n",
    "\tfor i in range(nb_epoch):\n",
    "\t\tmodel.fit(X, y, epochs=1, batch_size=batch_size, verbose=0, shuffle=False)\n",
    "\t\tmodel.reset_states()\n",
    "\treturn model\n",
    " \n",
    "# make a one-step forecast\n",
    "def forecast_lstm(model, batch_size, X):\n",
    "\tX = X.reshape(1, 1, len(X))\n",
    "\tyhat = model.predict(X, batch_size=batch_size)\n",
    "\treturn yhat[0,0]\n",
    " \n",
    "# load dataset\n",
    "series = read_csv('shampoo-sales.csv', header=0, parse_dates=[0], index_col=0, squeeze=True, date_parser=parser)\n",
    " \n",
    "# transform data to be stationary\n",
    "raw_values = series.values\n",
    "diff_values = difference(raw_values, 1)\n",
    " \n",
    "# transform data to be supervised learning\n",
    "supervised = timeseries_to_supervised(diff_values, 1)\n",
    "supervised_values = supervised.values\n",
    " \n",
    "# split data into train and test-sets\n",
    "train, test = supervised_values[0:-12], supervised_values[-12:]\n",
    " \n",
    "# transform the scale of the data\n",
    "scaler, train_scaled, test_scaled = scale(train, test)\n",
    " \n",
    "# fit the model\n",
    "lstm_model = fit_lstm(train_scaled, 1, 1500, 1)\n",
    "# forecast the entire training dataset to build up state for forecasting\n",
    "train_reshaped = train_scaled[:, 0].reshape(len(train_scaled), 1, 1)\n",
    "lstm_model.predict(train_reshaped, batch_size=1)\n",
    " \n",
    "# walk-forward validation on the test data\n",
    "predictions = list()\n",
    "for i in range(len(test_scaled)):\n",
    "\t# make one-step forecast\n",
    "\tX, y = test_scaled[i, 0:-1], test_scaled[i, -1]\n",
    "\tyhat = forecast_lstm(lstm_model, 1, X)\n",
    "\t# invert scaling\n",
    "\tyhat = invert_scale(scaler, X, yhat)\n",
    "\t# invert differencing\n",
    "\tyhat = inverse_difference(raw_values, yhat, len(test_scaled)+1-i)\n",
    "\t# store forecast\n",
    "\tpredictions.append(yhat)\n",
    "\texpected = raw_values[len(train) + i + 1]\n",
    "\tprint('Month=%d, Predicted=%f, Expected=%f' % (i+1, yhat, expected))\n",
    " \n",
    "# report performance\n",
    "rmse = sqrt(mean_squared_error(raw_values[-12:], predictions))\n",
    "print('Test RMSE: %.3f' % rmse)\n",
    "# line plot of observed vs predicted\n",
    "pyplot.plot(raw_values[-12:], label='True Value')\n",
    "pyplot.plot(predictions, label='Prediction')\n",
    "pyplot.legend()\n",
    "pyplot.show()"
   ]
  },
  {
   "cell_type": "code",
   "execution_count": null,
   "metadata": {},
   "outputs": [],
   "source": []
  }
 ],
 "metadata": {
  "kernelspec": {
   "display_name": "Python [conda env:tensorflow_env]",
   "language": "python",
   "name": "conda-env-tensorflow_env-py"
  },
  "language_info": {
   "codemirror_mode": {
    "name": "ipython",
    "version": 3
   },
   "file_extension": ".py",
   "mimetype": "text/x-python",
   "name": "python",
   "nbconvert_exporter": "python",
   "pygments_lexer": "ipython3",
   "version": "3.7.6"
  }
 },
 "nbformat": 4,
 "nbformat_minor": 2
}
